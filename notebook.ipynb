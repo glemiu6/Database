{
 "cells": [
  {
   "metadata": {},
   "cell_type": "raw",
   "source": [
    "Queremos implementar uma classe Table que armazena a informação de uma tabela.\n",
    "Há um conjunto de operações que queremos considerar para os nossos objetos do tipo tabela. Eis a sua especificação:  \n",
    "- add(register), adicionar um novo registo aos registos da nossa tabela.  \n",
    "- delete(pattern), remover da tabela os registos compatíveis com o padrão.  \n",
    "- lookup(pattern), devolver uma lista com os registos compatíveis com o padrão.  \n",
    "- select(p), dado um predicado p, devolver uma nova tabela com todos os registos da nossa tabela que satisfazem p.  \n",
    "- project(subscheme, subkey_idx), dado um sub-esquema do esquema da tabela (i.e., um tuplo com algumas das componentes do esquema, não necessariamente pela ordem original), e uma lista dos índices que serão chave, devolver uma nova tabela com as componentes selecionadas e reorganizadas pelo sub-esquema dado.  \n",
    "- __add__(other), devolver uma nova tabela com todos os registos da nossa tabela e da tabela dada (união de tabelas). As duas tabelas devem ter o mesmo esquema.   Remover eventuais duplicados. No caso de haver valores com a mesma chave, deve-se apagar o registo original e manter o da nova tabela.  \n",
    "- __mul__(other), devolver uma nova tabela apenas com os registos da nossa tabela cujas chaves existem na tabela dada (interseção de tabelas). As duas tabelas devem ter o mesmo esquema.  \n",
    "- __sub__(other), devolver uma nova tabela apenas com os registos da nossa tabela cujas chaves não existem na tabela dada (diferença de tabelas). As duas tabelas devem ter o mesmo esquema.  \n",
    "- __pow__(other), devolver uma nova tabela que junta a nossa tabela com a tabela dada pelas componentes do mesmo nome. Ou seja, a tabela resultado é o conjunto de todas as combinações possíveis de juntar os registos da nossa tabela com os registos da tabela dada, mas só aqueles registos que têm componentes com o mesmo nome, e com os mesmos valores dessas componentes. A chave desta nova tabela é a união das chaves das tabelas iniciais.  \n",
    "Devem estudar os exemplos dados nos testes visíveis, para melhor entender estas operações.\n",
    "\n",
    "---\n",
    "\n",
    "O construtor da classe recebe do cliente:  \n",
    "- uma string com o esquema da tabela, cujos nomes das componentes devem estar separados por espaços.  \n",
    "- uma lista de índices que indicam quais das componentes são para serem consideradas chave.  \n",
    "- uma lista de inteiros que indicam o tamanho em caracteres que cada componente deve ocupar (vamos usar esta informação para formatar a tabela quando a formos imprimir)  \n",
    "Devem implementar a classe Table de acordo com as operações descritas acima e ainda com o seguinte requisito:   \n",
    "- A classe Table deve ser iterável.  \n",
    "     - cada registo será devolvido como um par (tuplo com chave, tuplo com o registo inteiro)"
   ],
   "id": "55e49a1a29779ded"
  },
  {
   "cell_type": "code",
   "id": "44e68937-d86b-4955-9c51-b4ece7c06dee",
   "metadata": {
    "ExecuteTime": {
     "end_time": "2025-05-14T13:04:59.176609Z",
     "start_time": "2025-05-14T13:04:59.162521Z"
    }
   },
   "source": [
    "ANY = '_'  # constante a usar na definição dos padrões de registo\n",
    "\n",
    "class Table:\n",
    "    def __init__(self, scheme, key_idx, widths):\n",
    "        \"\"\"\n",
    "\n",
    "        :param scheme: string\n",
    "        :param key_idx: list\n",
    "        :param widths: list\n",
    "        \"\"\"\n",
    "        self._scheme = scheme.split(' ') # list[]\n",
    "        self._key_idx = key_idx #primary key\n",
    "        self._table = {} #punem continutul aici\n",
    "        self._widths = widths\n",
    "      \n",
    "    \n",
    "\n",
    "    def add(self,insert):#add value to the table\n",
    "        \"\"\"\n",
    "\n",
    "        :param insert: tuple\n",
    "        :return: none\n",
    "        \"\"\"\n",
    "        key = tuple(insert[i] for i in self._key_idx)\n",
    "\n",
    "        self._table[key] =insert\n",
    "\n",
    "\n",
    "    def delete(self,pattern):# deletes from the table\n",
    "        \"\"\"\n",
    "\n",
    "        :param pattern: tuple\n",
    "        :return: none\n",
    "        \"\"\"\n",
    "        to_remove=[key for key,row in self._table.items() if all(p==ANY or p== val for p,val in zip(pattern,row)) ]\n",
    "        \"\"\"\n",
    "        to_remove=[]\n",
    "        for key,row in self._table.items():\n",
    "            if all(p==ANY or p== val for p,val in zip(pattern,row)) :\n",
    "                to_remove.append(key)\n",
    "            \"\"\"\n",
    "        for key in to_remove:\n",
    "            del self._table[key]\n",
    "\n",
    "        \n",
    "    def lookup(self,pattern):#serches for the pattern in the table and returns the result\n",
    "        \"\"\"\n",
    "\n",
    "        :param pattern: tuple\n",
    "        :return: list\n",
    "        \"\"\"\n",
    "        result = [row for row in self._table.values() if all(p==ANY or p==val for p, val in zip(pattern, row))]\n",
    "        \"\"\"\n",
    "        result = []\n",
    "        for row in self._table.values():\n",
    "            if all(p == ANY or p == val for p,val in zip(pattern,row)):\n",
    "                result.append(row)\"\"\"\n",
    "        return result\n",
    "\n",
    "    def select(self,p):#selects a parameter and return a new table\n",
    "        \"\"\"\n",
    "\n",
    "        :param p: function\n",
    "        :return: object\n",
    "        \"\"\"\n",
    "        new_table=Table(' '.join(self._scheme),key_idx=self._key_idx,widths=self._widths)\n",
    "        for row in self._table.values():\n",
    "            if p(row):\n",
    "                new_table.add(row)\n",
    "        return new_table\n",
    "\n",
    "\n",
    "\n",
    "    def project(self,subscheme, subkey_idx):\n",
    "        \"\"\"\n",
    "        :param subscheme: string\n",
    "        :param subkey_idx: list\n",
    "        :return: object\n",
    "        \"\"\"\n",
    "        subscheme = subscheme.split(' ')\n",
    "        index_col =[self._scheme.index(col) for col in subscheme]\n",
    "        new_width=[self._widths[i] for i in index_col]\n",
    "        new_table=Table(' '.join(subscheme),key_idx=subkey_idx,widths=new_width)\n",
    "        for row in self._table.values():\n",
    "            project_row=tuple(row[i] for i in index_col)\n",
    "            new_table.add(project_row)\n",
    "        return new_table\n",
    "\n",
    "\n",
    "\n",
    "\n",
    "\n",
    "    def __add__(self,other):# return a new table where the new values/table are concatenated\n",
    "        \"\"\"\n",
    "\n",
    "        :param other: object\n",
    "        :return: object\n",
    "        \"\"\"\n",
    "        result=Table(' '.join(self._scheme), key_idx=self._key_idx, widths=self._widths)\n",
    "        for row in self._table.values():\n",
    "            result.add(row)\n",
    "        for row in other._table.values():\n",
    "            result.add(row)\n",
    "        return result\n",
    "\n",
    "\n",
    "\n",
    "    def __mul__(self,other):#return a new table where we get the common value\n",
    "        \"\"\"\n",
    "\n",
    "        :param other: object\n",
    "        :return: object\n",
    "        \"\"\"\n",
    "        result=Table(' '.join(self._scheme), key_idx=self._key_idx, widths=self._widths)\n",
    "        other_key=set(other._table.keys())\n",
    "\n",
    "        for key,row in self._table.items():\n",
    "            if key  in other_key:\n",
    "                result.add(row)\n",
    "        return result\n",
    "\n",
    "\n",
    "\n",
    "\n",
    "    def __sub__(self,other):# return the difference between the tables\n",
    "        \"\"\"\n",
    "\n",
    "        :param other: object\n",
    "        :return: object\n",
    "        \"\"\"\n",
    "        result=Table(' '.join(self._scheme), key_idx=self._key_idx, widths=self._widths)\n",
    "        other_key=set(other._table.keys())\n",
    "        for key,row in self._table.items():\n",
    "            if key not in other_key:\n",
    "                result.add(row)\n",
    "        return result\n",
    "\n",
    "\n",
    "\n",
    "    def __pow__(self, other):\n",
    "        # Combinăm schemele fără dubluri\n",
    "        new_scheme = []\n",
    "        for col in self._scheme + other._scheme:\n",
    "            if col not in new_scheme:\n",
    "                new_scheme.append(col)\n",
    "\n",
    "        # Construim cheile primare combinate\n",
    "        key_columns = []\n",
    "        for i in self._key_idx:\n",
    "            col = self._scheme[i]\n",
    "            if col not in key_columns:\n",
    "                key_columns.append(col)\n",
    "        for i in other._key_idx:\n",
    "            col = other._scheme[i]\n",
    "            if col not in key_columns:\n",
    "                key_columns.append(col)\n",
    "        new_key_idx = [new_scheme.index(col) for col in key_columns]\n",
    "\n",
    "        # Construim noile lățimi\n",
    "        new_widths = []\n",
    "        for col in new_scheme:\n",
    "            if col in self._scheme:\n",
    "                new_widths.append(self._widths[self._scheme.index(col)])\n",
    "            else:\n",
    "                new_widths.append(other._widths[other._scheme.index(col)])\n",
    "\n",
    "        # Construim tabela nouă\n",
    "        new_table = Table(' '.join(new_scheme), key_idx=new_key_idx, widths=new_widths)\n",
    "\n",
    "        # Mapăm coloanele comune (natural join)\n",
    "        common_cols = set(self._scheme) & set(other._scheme)\n",
    "        self_indexes = [self._scheme.index(col) for col in common_cols]\n",
    "        other_indexes = [other._scheme.index(col) for col in common_cols]\n",
    "\n",
    "        for row1 in self._table.values():\n",
    "            for row2 in other._table.values():\n",
    "                if all(row1[i] == row2[j] for i, j in zip(self_indexes, other_indexes)):\n",
    "                    merged_row = []\n",
    "                    for col in new_scheme:\n",
    "                        if col in self._scheme:\n",
    "                            merged_row.append(row1[self._scheme.index(col)])\n",
    "                        else:\n",
    "                            merged_row.append(row2[other._scheme.index(col)])\n",
    "                    new_table.add(tuple(merged_row))\n",
    "\n",
    "        return new_table\n",
    "\n",
    "    def __iter__(self):\n",
    "        return iter(self._table.items())\n",
    "\n",
    "  \n",
    "  ##### não alterar __repr__ #####\n",
    "    def __repr__(self):  \n",
    "        header = ' | '.join((k + '!'*(i in self._key_idx)).ljust(self._widths[i])\n",
    "                            for i,k in enumerate(self._scheme))\n",
    "        content = '\\n'.join( ' | '.join(str(column).ljust(self._widths[i])\n",
    "                                        for i,column in enumerate(row))\n",
    "                            for row in self._table.values())\n",
    "        return '\\n'.join((header+'\\n'+content ).split('\\n'))\n",
    "\n",
    "    "
   ],
   "outputs": [],
   "execution_count": 5
  },
  {
   "cell_type": "code",
   "id": "c61ade98-c7b9-4306-8319-559af9987ef3",
   "metadata": {
    "ExecuteTime": {
     "end_time": "2025-05-14T13:04:29.769075Z",
     "start_time": "2025-05-14T13:04:29.765396Z"
    }
   },
   "source": [
    "##################################################################\n",
    "######### tabelas exemplos para os testes (não alterar!) #########\n",
    "##################################################################\n",
    "def make_db():\n",
    "    addresses = Table('id num address country', key_idx=[0], widths=[3,5,36,8])\n",
    "    #[id , num, address, country], id!, widths=[len(id),len(num),len(address),len(country)] reprezinta cate caractere este in fiecare coloana\n",
    "    addresses.add( (1, 50000, \"Campo Grande 016, 1749-016 Lisboa\",    'PT') )\n",
    "    addresses.add( (2, 50000, \"Av. da Liberdade 2, 1250-144 Lisboa\",  'PT') )\n",
    "    addresses.add( (3, 50001, \"Av. da Republica 12, 1210-54 Lisboa\",  'PT') )\n",
    "    addresses.add( (4, 50002, \"Av. Infante Santo 8, 1350-001 Lisboa\", 'PT') )\n",
    "    \n",
    "    students = Table('num name grad year', key_idx=[0], widths=[5,12,5,4])\n",
    "    students.add( (50000, 'Ana',   'LEI', 2020) )\n",
    "    students.add( (50001, 'Rui',   'LEI', 2022) )\n",
    "    students.add( (50002, 'Pedro', 'LTI', 2022) )\n",
    "    students.add( (50003, 'Dulce', 'LF',  2021) )\n",
    "    students.add( (50004, 'Pedro', 'LMA', 2022) )    \n",
    "    \n",
    "    return addresses, students"
   ],
   "outputs": [],
   "execution_count": 3
  },
  {
   "metadata": {},
   "cell_type": "markdown",
   "source": "### Test to run:",
   "id": "be17c9fa61466182"
  },
  {
   "metadata": {
    "ExecuteTime": {
     "end_time": "2025-05-13T19:22:02.959681Z",
     "start_time": "2025-05-13T19:22:02.956973Z"
    }
   },
   "cell_type": "code",
   "source": [
    "try:\n",
    "  addresses, students = make_db()\n",
    "  print(addresses)\n",
    "  print()\n",
    "  print(students)\n",
    "except:\n",
    "  pass"
   ],
   "id": "a43affbda18346ab",
   "outputs": [
    {
     "name": "stdout",
     "output_type": "stream",
     "text": [
      "id! | num   | address                              | country \n",
      "1   | 50000 | Campo Grande 016, 1749-016 Lisboa    | PT      \n",
      "2   | 50000 | Av. da Liberdade 2, 1250-144 Lisboa  | PT      \n",
      "3   | 50001 | Av. da Republica 12, 1210-54 Lisboa  | PT      \n",
      "4   | 50002 | Av. Infante Santo 8, 1350-001 Lisboa | PT      \n",
      "\n",
      "num!  | name         | grad  | year\n",
      "50000 | Ana          | LEI   | 2020\n",
      "50001 | Rui          | LEI   | 2022\n",
      "50002 | Pedro        | LTI   | 2022\n",
      "50003 | Dulce        | LF    | 2021\n",
      "50004 | Pedro        | LMA   | 2022\n"
     ]
    }
   ],
   "execution_count": 4
  },
  {
   "metadata": {
    "ExecuteTime": {
     "end_time": "2025-05-13T19:22:04.573724Z",
     "start_time": "2025-05-13T19:22:04.570860Z"
    }
   },
   "cell_type": "code",
   "source": [
    "try:\n",
    "  addresses, students = make_db()\n",
    "  students.add( (50005,'Francisca','LEA',2023) )\n",
    "  students.add( (50006,'Zé','LMOG',2023) )\n",
    "  print(students)\n",
    "except:\n",
    "  pass"
   ],
   "id": "ad52bbb418c56078",
   "outputs": [
    {
     "name": "stdout",
     "output_type": "stream",
     "text": [
      "num!  | name         | grad  | year\n",
      "50000 | Ana          | LEI   | 2020\n",
      "50001 | Rui          | LEI   | 2022\n",
      "50002 | Pedro        | LTI   | 2022\n",
      "50003 | Dulce        | LF    | 2021\n",
      "50004 | Pedro        | LMA   | 2022\n",
      "50005 | Francisca    | LEA   | 2023\n",
      "50006 | Zé           | LMOG  | 2023\n"
     ]
    }
   ],
   "execution_count": 5
  },
  {
   "metadata": {
    "ExecuteTime": {
     "end_time": "2025-05-13T19:22:06.328292Z",
     "start_time": "2025-05-13T19:22:06.325656Z"
    }
   },
   "cell_type": "code",
   "source": [
    "try:\n",
    "  addresses, students = make_db()\n",
    "  students.delete( (ANY,'Pedro',ANY,ANY) )\n",
    "  print(students)\n",
    "except:\n",
    "  pass"
   ],
   "id": "fc76a096a406c282",
   "outputs": [
    {
     "name": "stdout",
     "output_type": "stream",
     "text": [
      "num!  | name         | grad  | year\n",
      "50000 | Ana          | LEI   | 2020\n",
      "50001 | Rui          | LEI   | 2022\n",
      "50003 | Dulce        | LF    | 2021\n"
     ]
    }
   ],
   "execution_count": 6
  },
  {
   "metadata": {
    "ExecuteTime": {
     "end_time": "2025-05-13T19:22:07.836773Z",
     "start_time": "2025-05-13T19:22:07.834015Z"
    }
   },
   "cell_type": "code",
   "source": [
    "try:\n",
    "  addresses, students = make_db()\n",
    "  rows = students.lookup( (ANY,ANY,'LEI',ANY) )\n",
    "  print(rows)\n",
    "except:\n",
    "  pass"
   ],
   "id": "3b422379037e9a6",
   "outputs": [
    {
     "name": "stdout",
     "output_type": "stream",
     "text": [
      "[(50000, 'Ana', 'LEI', 2020), (50001, 'Rui', 'LEI', 2022)]\n"
     ]
    }
   ],
   "execution_count": 7
  },
  {
   "metadata": {
    "ExecuteTime": {
     "end_time": "2025-05-13T19:22:09.260607Z",
     "start_time": "2025-05-13T19:22:09.257859Z"
    }
   },
   "cell_type": "code",
   "source": [
    "try:\n",
    "  addresses, students = make_db()\n",
    "\n",
    "  students2 = Table('num name grad year', key_idx=[0], widths=[5,8,5,4])\n",
    "  students2.add( (50001, 'Rui', 'LEI', 2022) )\n",
    "  students2.add( (50005, 'Bernardo', 'LF', 2019) )\n",
    "  students2.add( (50006, 'Anabela', 'LTI', 2021) )\n",
    "\n",
    "  print(students + students2)\n",
    "except:\n",
    "  pass"
   ],
   "id": "4e285104cfb354f8",
   "outputs": [
    {
     "name": "stdout",
     "output_type": "stream",
     "text": [
      "num!  | name         | grad  | year\n",
      "50000 | Ana          | LEI   | 2020\n",
      "50001 | Rui          | LEI   | 2022\n",
      "50002 | Pedro        | LTI   | 2022\n",
      "50003 | Dulce        | LF    | 2021\n",
      "50004 | Pedro        | LMA   | 2022\n",
      "50005 | Bernardo     | LF    | 2019\n",
      "50006 | Anabela      | LTI   | 2021\n"
     ]
    }
   ],
   "execution_count": 8
  },
  {
   "metadata": {
    "ExecuteTime": {
     "end_time": "2025-05-13T19:22:11.750479Z",
     "start_time": "2025-05-13T19:22:11.747784Z"
    }
   },
   "cell_type": "code",
   "source": [
    "try:\n",
    "  addresses, students = make_db()\n",
    "\n",
    "  students2 = Table('num name grad year', key_idx=[0], widths=[5,8,5,4])\n",
    "  students2.add( (50001, 'Rui', 'LEI', 2022) )\n",
    "  students2.add( (50005, 'Bernardo', 'LF', 2019) )\n",
    "  students2.add( (50006, 'Anabela', 'LTI', 2021) )\n",
    "\n",
    "  print(students * students2)\n",
    "except:\n",
    "  pass"
   ],
   "id": "2ca1d42f4e81689",
   "outputs": [
    {
     "name": "stdout",
     "output_type": "stream",
     "text": [
      "num!  | name         | grad  | year\n",
      "50001 | Rui          | LEI   | 2022\n"
     ]
    }
   ],
   "execution_count": 9
  },
  {
   "metadata": {
    "ExecuteTime": {
     "end_time": "2025-05-13T19:22:15.184992Z",
     "start_time": "2025-05-13T19:22:15.182034Z"
    }
   },
   "cell_type": "code",
   "source": [
    "try:\n",
    "  addresses, students = make_db()\n",
    "\n",
    "  students2 = Table('num name grad year', key_idx=[0], widths=[5,8,5,4])\n",
    "  students2.add( (50001, 'Rui', 'LEI', 2022) )\n",
    "  students2.add( (50005, 'Bernardo', 'LF', 2019) )\n",
    "  students2.add( (50006, 'Anabela', 'LTI', 2021) )\n",
    "\n",
    "  print(students - students2)\n",
    "except:\n",
    "  pass"
   ],
   "id": "4f8ee87d3b3c274",
   "outputs": [
    {
     "name": "stdout",
     "output_type": "stream",
     "text": [
      "num!  | name         | grad  | year\n",
      "50000 | Ana          | LEI   | 2020\n",
      "50002 | Pedro        | LTI   | 2022\n",
      "50003 | Dulce        | LF    | 2021\n",
      "50004 | Pedro        | LMA   | 2022\n"
     ]
    }
   ],
   "execution_count": 10
  },
  {
   "metadata": {
    "ExecuteTime": {
     "end_time": "2025-05-13T19:22:17.193172Z",
     "start_time": "2025-05-13T19:22:17.190889Z"
    }
   },
   "cell_type": "code",
   "source": [
    "try:\n",
    "  addresses, students = make_db()\n",
    "\n",
    "  students2 = students.select(lambda row: len(row[1])==5)\n",
    "  print(students2)\n",
    "  print()\n",
    "\n",
    "  students3 = students.select(lambda row: row[2]=='LEI')\n",
    "  print(students3)\n",
    "except:\n",
    "  pass"
   ],
   "id": "7ca41f1ec7d70923",
   "outputs": [
    {
     "name": "stdout",
     "output_type": "stream",
     "text": [
      "num!  | name         | grad  | year\n",
      "50002 | Pedro        | LTI   | 2022\n",
      "50003 | Dulce        | LF    | 2021\n",
      "50004 | Pedro        | LMA   | 2022\n",
      "\n",
      "num!  | name         | grad  | year\n",
      "50000 | Ana          | LEI   | 2020\n",
      "50001 | Rui          | LEI   | 2022\n"
     ]
    }
   ],
   "execution_count": 11
  },
  {
   "metadata": {
    "ExecuteTime": {
     "end_time": "2025-05-13T19:22:18.987192Z",
     "start_time": "2025-05-13T19:22:18.984732Z"
    }
   },
   "cell_type": "code",
   "source": [
    "try:\n",
    "  addresses, students = make_db()\n",
    "\n",
    "  students2 = students.project(\"year num grad\", [1])\n",
    "  print(students2)\n",
    "except:\n",
    "  pass"
   ],
   "id": "c4980ee855680fac",
   "outputs": [
    {
     "name": "stdout",
     "output_type": "stream",
     "text": [
      "year | num!  | grad \n",
      "2020 | 50000 | LEI  \n",
      "2022 | 50001 | LEI  \n",
      "2022 | 50002 | LTI  \n",
      "2021 | 50003 | LF   \n",
      "2022 | 50004 | LMA  \n"
     ]
    }
   ],
   "execution_count": 12
  },
  {
   "metadata": {
    "ExecuteTime": {
     "end_time": "2025-05-14T13:05:05.277719Z",
     "start_time": "2025-05-14T13:05:05.274925Z"
    }
   },
   "cell_type": "code",
   "source": [
    "try:\n",
    "  addresses, students = make_db()\n",
    "\n",
    "  join = students ** addresses\n",
    "  print(join)\n",
    "  print()\n",
    "\n",
    "  join = addresses ** students\n",
    "  print(join)\n",
    "except Exception as e:\n",
    "  print(e)"
   ],
   "id": "6389a8cd31963828",
   "outputs": [
    {
     "name": "stdout",
     "output_type": "stream",
     "text": [
      "num!  | name         | grad  | year | id! | address                              | country \n",
      "50000 | Ana          | LEI   | 2020 | 1   | Campo Grande 016, 1749-016 Lisboa    | PT      \n",
      "50000 | Ana          | LEI   | 2020 | 2   | Av. da Liberdade 2, 1250-144 Lisboa  | PT      \n",
      "50001 | Rui          | LEI   | 2022 | 3   | Av. da Republica 12, 1210-54 Lisboa  | PT      \n",
      "50002 | Pedro        | LTI   | 2022 | 4   | Av. Infante Santo 8, 1350-001 Lisboa | PT      \n",
      "\n",
      "id! | num!  | address                              | country  | name         | grad  | year\n",
      "1   | 50000 | Campo Grande 016, 1749-016 Lisboa    | PT       | Ana          | LEI   | 2020\n",
      "2   | 50000 | Av. da Liberdade 2, 1250-144 Lisboa  | PT       | Ana          | LEI   | 2020\n",
      "3   | 50001 | Av. da Republica 12, 1210-54 Lisboa  | PT       | Rui          | LEI   | 2022\n",
      "4   | 50002 | Av. Infante Santo 8, 1350-001 Lisboa | PT       | Pedro        | LTI   | 2022\n"
     ]
    }
   ],
   "execution_count": 6
  },
  {
   "metadata": {
    "ExecuteTime": {
     "end_time": "2025-05-14T13:05:08.626877Z",
     "start_time": "2025-05-14T13:05:08.624126Z"
    }
   },
   "cell_type": "code",
   "source": [
    "try:\n",
    "  addresses, students = make_db()\n",
    "\n",
    "  for register in students:\n",
    "    print(*register)\n",
    "  print()\n",
    "\n",
    "  for address in addresses:\n",
    "    print(*address)\n",
    "  print()\n",
    "\n",
    "  for register in students ** addresses:\n",
    "    print(*register)\n",
    "except Exception as e:\n",
    "  print(e)"
   ],
   "id": "ba37293e2cca14c3",
   "outputs": [
    {
     "name": "stdout",
     "output_type": "stream",
     "text": [
      "(50000,) (50000, 'Ana', 'LEI', 2020)\n",
      "(50001,) (50001, 'Rui', 'LEI', 2022)\n",
      "(50002,) (50002, 'Pedro', 'LTI', 2022)\n",
      "(50003,) (50003, 'Dulce', 'LF', 2021)\n",
      "(50004,) (50004, 'Pedro', 'LMA', 2022)\n",
      "\n",
      "(1,) (1, 50000, 'Campo Grande 016, 1749-016 Lisboa', 'PT')\n",
      "(2,) (2, 50000, 'Av. da Liberdade 2, 1250-144 Lisboa', 'PT')\n",
      "(3,) (3, 50001, 'Av. da Republica 12, 1210-54 Lisboa', 'PT')\n",
      "(4,) (4, 50002, 'Av. Infante Santo 8, 1350-001 Lisboa', 'PT')\n",
      "\n",
      "(50000, 1) (50000, 'Ana', 'LEI', 2020, 1, 'Campo Grande 016, 1749-016 Lisboa', 'PT')\n",
      "(50000, 2) (50000, 'Ana', 'LEI', 2020, 2, 'Av. da Liberdade 2, 1250-144 Lisboa', 'PT')\n",
      "(50001, 3) (50001, 'Rui', 'LEI', 2022, 3, 'Av. da Republica 12, 1210-54 Lisboa', 'PT')\n",
      "(50002, 4) (50002, 'Pedro', 'LTI', 2022, 4, 'Av. Infante Santo 8, 1350-001 Lisboa', 'PT')\n"
     ]
    }
   ],
   "execution_count": 7
  },
  {
   "metadata": {
    "ExecuteTime": {
     "end_time": "2025-05-08T11:33:58.687713Z",
     "start_time": "2025-05-08T11:33:58.684499Z"
    }
   },
   "cell_type": "code",
   "source": [
    "try:\n",
    "  T1 = Table(\"a b c\", [0], [2,2,2])\n",
    "  for i in range(9):\n",
    "    T1.add( (i,i+1,i+3) )\n",
    "  T2 = Table(\"a b c\", [0], [2,2,2])\n",
    "  for i in range(6):\n",
    "    T2.add( (i,2*i,3*i) )\n",
    "    T2.add( (i,3*i,5*i) )\n",
    "    T2.add( (i,4*i,6*i) )\n",
    "\n",
    "  # print(T1); print()\n",
    "  # print(T2); print()\n",
    "  print(T1*T2)\n",
    "except:\n",
    "  print('exception at * op')"
   ],
   "id": "8775eda95d1f7489",
   "outputs": [
    {
     "name": "stdout",
     "output_type": "stream",
     "text": [
      "{(2,), (5,), (4,), (1,), (0,), (3,)}\n",
      "a! | b  | c \n",
      "0  | 1  | 3 \n",
      "1  | 2  | 4 \n",
      "2  | 3  | 5 \n",
      "3  | 4  | 6 \n",
      "4  | 5  | 7 \n",
      "5  | 6  | 8 \n"
     ]
    }
   ],
   "execution_count": 19
  },
  {
   "metadata": {
    "ExecuteTime": {
     "end_time": "2025-05-08T11:34:04.412283Z",
     "start_time": "2025-05-08T11:34:04.409246Z"
    }
   },
   "cell_type": "code",
   "source": [
    "try:\n",
    "    T2 = Table(\"a b c\", [0,2], [2,2,2])\n",
    "    for i in range(6):\n",
    "        T2.add( (i,2*i,3*i) )\n",
    "        T2.add( (i,3*i,5*i) )\n",
    "        T2.add( (i,4*i,6*i) )\n",
    "        T2.add( (i,i+3,2*i) )\n",
    "    print(T2)\n",
    "except:\n",
    "    print('exception at * op')\n"
   ],
   "id": "c2b3b9744e5153a9",
   "outputs": [
    {
     "name": "stdout",
     "output_type": "stream",
     "text": [
      "a! | b  | c!\n",
      "0  | 3  | 0 \n",
      "1  | 2  | 3 \n",
      "1  | 3  | 5 \n",
      "1  | 4  | 6 \n",
      "1  | 4  | 2 \n",
      "2  | 4  | 6 \n",
      "2  | 6  | 10\n",
      "2  | 8  | 12\n",
      "2  | 5  | 4 \n",
      "3  | 6  | 9 \n",
      "3  | 9  | 15\n",
      "3  | 12 | 18\n",
      "3  | 6  | 6 \n",
      "4  | 8  | 12\n",
      "4  | 12 | 20\n",
      "4  | 16 | 24\n",
      "4  | 7  | 8 \n",
      "5  | 10 | 15\n",
      "5  | 15 | 25\n",
      "5  | 20 | 30\n",
      "5  | 8  | 10\n"
     ]
    }
   ],
   "execution_count": 20
  }
 ],
 "metadata": {
  "kernelspec": {
   "display_name": "Python 3 (ipykernel)",
   "language": "python",
   "name": "python3"
  },
  "language_info": {
   "codemirror_mode": {
    "name": "ipython",
    "version": 3
   },
   "file_extension": ".py",
   "mimetype": "text/x-python",
   "name": "python",
   "nbconvert_exporter": "python",
   "pygments_lexer": "ipython3",
   "version": "3.12.6"
  }
 },
 "nbformat": 4,
 "nbformat_minor": 5
}
